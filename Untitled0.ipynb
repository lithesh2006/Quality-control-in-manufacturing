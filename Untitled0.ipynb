{
  "nbformat": 4,
  "nbformat_minor": 0,
  "metadata": {
    "colab": {
      "provenance": [],
      "authorship_tag": "ABX9TyOpb1CmTjAEjaXTa+Ay7NG6",
      "include_colab_link": true
    },
    "kernelspec": {
      "name": "python3",
      "display_name": "Python 3"
    },
    "language_info": {
      "name": "python"
    }
  },
  "cells": [
    {
      "cell_type": "markdown",
      "metadata": {
        "id": "view-in-github",
        "colab_type": "text"
      },
      "source": [
        "<a href=\"https://colab.research.google.com/github/lithesh2006/Quality-control-in-manufacturing/blob/main/Untitled0.ipynb\" target=\"_parent\"><img src=\"https://colab.research.google.com/assets/colab-badge.svg\" alt=\"Open In Colab\"/></a>"
      ]
    },
    {
      "cell_type": "code",
      "execution_count": 3,
      "metadata": {
        "colab": {
          "base_uri": "https://localhost:8080/"
        },
        "id": "TOaMz9xmP_ho",
        "outputId": "86268b58-d4d7-4a9c-cf76-a997e1fc1c24"
      },
      "outputs": [
        {
          "output_type": "stream",
          "name": "stdout",
          "text": [
            "Item 1: FAILED - {'id': 1, 'length': 9.56, 'width': 5.08, 'weight': 105.88}, QC: {'length': False, 'width': True, 'weight': False}\n",
            "Item 2: FAILED - {'id': 2, 'length': 9.95, 'width': 4.73, 'weight': 104.0}, QC: {'length': True, 'width': False, 'weight': True}\n",
            "Item 3: FAILED - {'id': 3, 'length': 9.9, 'width': 5.08, 'weight': 106.28}, QC: {'length': True, 'width': True, 'weight': False}\n",
            "Item 4: FAILED - {'id': 4, 'length': 9.64, 'width': 5.21, 'weight': 100.96}, QC: {'length': False, 'width': False, 'weight': True}\n",
            "Item 5: FAILED - {'id': 5, 'length': 9.95, 'width': 4.8, 'weight': 90.5}, QC: {'length': True, 'width': True, 'weight': False}\n",
            "Item 6: FAILED - {'id': 6, 'length': 9.56, 'width': 5.43, 'weight': 100.77}, QC: {'length': False, 'width': False, 'weight': True}\n",
            "Item 7: FAILED - {'id': 7, 'length': 10.23, 'width': 4.82, 'weight': 104.07}, QC: {'length': False, 'width': True, 'weight': True}\n",
            "Item 8: FAILED - {'id': 8, 'length': 10.17, 'width': 4.98, 'weight': 94.57}, QC: {'length': True, 'width': True, 'weight': False}\n",
            "Item 9: FAILED - {'id': 9, 'length': 9.83, 'width': 5.23, 'weight': 99.6}, QC: {'length': True, 'width': False, 'weight': True}\n",
            "Item 10: FAILED - {'id': 10, 'length': 9.95, 'width': 5.31, 'weight': 103.98}, QC: {'length': True, 'width': False, 'weight': True}\n",
            "\n",
            "Total Passed: 0/10\n"
          ]
        }
      ],
      "source": [
        "import random\n",
        "\n",
        "# Define tolerance ranges for quality control\n",
        "TOLERANCES = {\n",
        "    \"length\": (9.8, 10.2),   # in cm\n",
        "    \"width\": (4.8, 5.2),     # in cm\n",
        "    \"weight\": (95, 105)      # in grams\n",
        "}\n",
        "\n",
        "# Simulate item measurements\n",
        "def generate_item(id):\n",
        "    return {\n",
        "        \"id\": id,\n",
        "        \"length\": round(random.uniform(9.5, 10.5), 2),\n",
        "        \"width\": round(random.uniform(4.5, 5.5), 2),\n",
        "        \"weight\": round(random.uniform(90, 110), 2)\n",
        "    }\n",
        "\n",
        "# Quality control function\n",
        "def check_item_quality(item):\n",
        "    results = {}\n",
        "    for key, (min_val, max_val) in TOLERANCES.items():\n",
        "        value = item[key]\n",
        "        results[key] = min_val <= value <= max_val\n",
        "    return results\n",
        "\n",
        "# Run quality control check on a batch of items\n",
        "def run_quality_control(batch_size=10):\n",
        "    passed = 0\n",
        "    for i in range(batch_size):\n",
        "        item = generate_item(i + 1)\n",
        "        qc_results = check_item_quality(item)\n",
        "        if all(qc_results.values()):\n",
        "            passed += 1\n",
        "            status = \"PASSED\"\n",
        "        else:\n",
        "            status = \"FAILED\"\n",
        "        print(f\"Item {item['id']}: {status} - {item}, QC: {qc_results}\")\n",
        "    print(f\"\\nTotal Passed: {passed}/{batch_size}\")\n",
        "\n",
        "# Run the example\n",
        "run_quality_control(10)"
      ]
    }
  ]
}